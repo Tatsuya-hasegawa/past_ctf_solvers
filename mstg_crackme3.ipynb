{
 "cells": [
  {
   "cell_type": "markdown",
   "metadata": {},
   "source": [
    "\n",
    "# UnCrackable-Level3.apk (OWASP MSTG Crackmes)\n",
    "##  lib/x86/foo.soからデコンパイルされたCodeCheck.bar関数\n",
    "```\n",
    "Java_sg_vantagepoint_uncrackable3_CodeCheck_bar(int *param_1,undefined4 param_2,undefined4 param_3)\n",
    "\n",
    "{\n",
    "  int iVar1;\n",
    "  int iVar2;\n",
    "  uint uVar3;\n",
    "  undefined4 uVar4;\n",
    "  undefined4 *puVar5_xorkey;\n",
    "  int in_GS_OFFSET;\n",
    "  undefined local_40 _secret[16];\n",
    "  undefined4 local_30;\n",
    "  undefined4 local_2c;\n",
    "  undefined local_28;\n",
    "  int local_18;\n",
    "  \n",
    "  local_18 = *(int *)(in_GS_OFFSET + 0x14);\n",
    "  local_40_secret= ZEXT816(0);\n",
    "  local_2c = 0;\n",
    "  local_30 = 0;\n",
    "  local_28 = 0;\n",
    "  if (DAT_00016038 == 2) {\n",
    "    FUN_00010fa0(local_40_secret);\n",
    "    iVar1 = (**(code **)(*param_1 + 0x2e0))(param_1,param_3,0);\n",
    "    iVar2 = (**(code **)(*param_1 + 0x2ac))(param_1,param_3);\n",
    "    if (iVar2 == 0x18) {\n",
    "      uVar3 = 0;\n",
    "      puVar5_xorkey = &DAT_0001601c;\n",
    "      do {\n",
    "        if (*(byte *)(iVar1 + uVar3) != (*(byte *)puVar5_xorkey ^ local_40_secret[uVar3])) goto LAB_00013456;\n",
    "        uVar3 = uVar3 + 1;\n",
    "        puVar5_xorkey = (undefined4 *)((int)puVar5_xorkey + 1);\n",
    "      } while (uVar3 < 0x18);\n",
    "      uVar4 = CONCAT31((int3)(uVar3 >> 8),1);\n",
    "      if (uVar3 == 0x18) goto LAB_00013458;\n",
    "    }\n",
    "  }\n",
    "LAB_00013456:\n",
    "  uVar4 = 0;\n",
    "LAB_00013458:\n",
    "  if (*(int *)(in_GS_OFFSET + 0x14) == local_18) {\n",
    "    return uVar4;\n",
    "  }\n",
    "                    /* WARNING: Subroutine does not return */\n",
    "  __stack_chk_fail();\n",
    "}\n",
    "'''\n",
    "\n",
    "FUN_00010fa0(local_40_secret);\n",
    "'''\n",
    "FUN_00010fa0(param_1);\n",
    "    *param_1 = 0x1311081d;\n",
    "    param_1[1] = 0x1549170f;\n",
    "    param_1[2] = 0x1903000d;\n",
    "    param_1[3] = 0x15131d5a;\n",
    "    param_1[4] = 0x5a0e08;\n",
    "    param_1[5] = 0x14130817;"
   ]
  },
  {
   "cell_type": "code",
   "execution_count": 13,
   "metadata": {},
   "outputs": [
    {
     "name": "stdout",
     "output_type": "stream",
     "text": [
      "24 b'\\x1d\\x08\\x11\\x13\\x0f\\x17I\\x15\\r\\x00\\x03\\x19Z\\x1d\\x13\\x15\\x08\\x0eZ\\x00\\x17\\x08\\x13\\x14'\n",
      "Password to input [length=True]: 'making owasp great again'\n"
     ]
    }
   ],
   "source": [
    "# Pythonでdecompiledコードを再構築　    private native boolean bar(byte[] bArr);\n",
    "def get_password_reversed_bar():\n",
    "    password_length = 0x18\n",
    "    \n",
    "    secret = [0x1311081d,0x1549170f,0x1903000d,0x15131d5a,0x5a0e08,0x14130817]\n",
    "    secret_byte = b\"\"\n",
    "    for block in secret:\n",
    "        secret_byte += block.to_bytes(4, 'little')\n",
    "    \n",
    "    print(len(secret_byte),secret_byte)\n",
    "    xorkey = \"pizzapizzapizzapizzapizz\"\n",
    "\n",
    "    decoded_password = \"\".join(chr(ord(x) ^ ord(y)) for x, y in zip(secret_byte.decode(), xorkey))\n",
    "\n",
    "    print(f\"Password to input [length={len(decoded_password)== password_length}]: '{decoded_password}'\")\n",
    "        \n",
    "    \n",
    "get_password_reversed_bar()\n"
   ]
  },
  {
   "cell_type": "code",
   "execution_count": null,
   "metadata": {},
   "outputs": [],
   "source": []
  }
 ],
 "metadata": {
  "kernelspec": {
   "display_name": "Python 3.9.5 64-bit ('3.9.5')",
   "language": "python",
   "name": "python3"
  },
  "language_info": {
   "codemirror_mode": {
    "name": "ipython",
    "version": 3
   },
   "file_extension": ".py",
   "mimetype": "text/x-python",
   "name": "python",
   "nbconvert_exporter": "python",
   "pygments_lexer": "ipython3",
   "version": "3.9.5"
  },
  "orig_nbformat": 4,
  "vscode": {
   "interpreter": {
    "hash": "98ae958a616380484a47c0acb633c1c87a1936093fc0a65d8b215a6e5956a896"
   }
  }
 },
 "nbformat": 4,
 "nbformat_minor": 2
}
