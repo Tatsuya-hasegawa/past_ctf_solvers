{
 "cells": [
  {
   "cell_type": "markdown",
   "metadata": {},
   "source": [
    "\n",
    "# UnCrackable-Level2.apk (OWASP MSTG Crackmes)\n",
    "##  lib/x86/foo.soからデコンパイルされたCodeCheck.bar関数\n",
    "```\n",
    "Java_sg_vantagepoint_uncrackable2_CodeCheck_bar(int *param_1,undefined4 param_2,undefined4 param_3)\n",
    "\n",
    "{\n",
    "  char *__s1;\n",
    "  int iVar1;\n",
    "  undefined4 uVar2;\n",
    "  int in_GS_OFFSET;\n",
    "  undefined4 local_30;\n",
    "  undefined4 local_2c;\n",
    "  undefined4 local_28;\n",
    "  undefined4 local_24;\n",
    "  undefined2 local_20;\n",
    "  undefined4 local_1e;\n",
    "  undefined2 local_1a;\n",
    "  int local_18;\n",
    "  \n",
    "  local_18 = *(int *)(in_GS_OFFSET + 0x14);\n",
    "  if (DAT_00014008 == '\\x01') {\n",
    "    local_30 = 0x6e616854;\n",
    "    local_2c = 0x6620736b;\n",
    "    local_28 = 0x6120726f;\n",
    "    local_24 = 0x74206c6c;\n",
    "    local_20 = 0x6568;\n",
    "    local_1e = 0x73696620;\n",
    "    local_1a = 0x68;\n",
    "    __s1 = (char *)(**(code **)(*param_1 + 0x2e0))(param_1,param_3,0);\n",
    "    iVar1 = (**(code **)(*param_1 + 0x2ac))(param_1,param_3);\n",
    "    if (iVar1 == 0x17) {\n",
    "      iVar1 = strncmp(__s1,(char *)&local_30,0x17);\n",
    "      if (iVar1 == 0) {\n",
    "        uVar2 = 1;\n",
    "        goto LAB_00011009;\n",
    "      }\n",
    "    }\n",
    "  }\n",
    "  uVar2 = 0;\n",
    "LAB_00011009:\n",
    "  if (*(int *)(in_GS_OFFSET + 0x14) == local_18) {\n",
    "    return uVar2;\n",
    "  }\n",
    "                    /* WARNING: Subroutine does not return */\n",
    "  __stack_chk_fail();\n",
    "}\n",
    "```"
   ]
  },
  {
   "cell_type": "code",
   "execution_count": 32,
   "metadata": {},
   "outputs": [
    {
     "name": "stdout",
     "output_type": "stream",
     "text": [
      "1416126830\n",
      "1802707046\n",
      "1869750369\n",
      "1819025524\n",
      "26725\n",
      "543582579\n",
      "104\n",
      "Password to input [length=True]: 'Thanks for all the fish'\n"
     ]
    }
   ],
   "source": [
    "# Pythonでdecompiledコードを再構築　    private native boolean bar(byte[] bArr);\n",
    "def get_password_reversed_bar():\n",
    "    password = [ b\"\\x6e\\x61\\x68\\x54\", b\"\\x66\\x20\\x73\\x6b\", b\"\\x61\\x20\\x72\\x6f\", b\"\\x74\\x20\\x6c\\x6c\", b\"\\x65\\x68\" , b\"\\x73\\x69\\x66\\x20\",  b\"\\x68\" ]\n",
    "    password_length = 0x17\n",
    "    c=0\n",
    "    decoded_password = \"\"\n",
    "    for block in password:\n",
    "        block_little = int.from_bytes(block, byteorder='little')\n",
    "        print(block_little)\n",
    "        for b in block_little.to_bytes((block_little.bit_length() + 7) // 8, 'big'):\n",
    "            if chr(b).isascii():\n",
    "                c+=1\n",
    "                #print(c,chr(b))\n",
    "                decoded_password += chr(b)\n",
    "\n",
    "    print(f\"Password to input [length={len(decoded_password)== password_length}]: '{decoded_password}'\")\n",
    "        \n",
    "    \n",
    "\n",
    "get_password_reversed_bar()\n"
   ]
  },
  {
   "cell_type": "code",
   "execution_count": null,
   "metadata": {},
   "outputs": [],
   "source": []
  }
 ],
 "metadata": {
  "kernelspec": {
   "display_name": "Python 3.9.5 64-bit ('3.9.5')",
   "language": "python",
   "name": "python3"
  },
  "language_info": {
   "codemirror_mode": {
    "name": "ipython",
    "version": 3
   },
   "file_extension": ".py",
   "mimetype": "text/x-python",
   "name": "python",
   "nbconvert_exporter": "python",
   "pygments_lexer": "ipython3",
   "version": "3.9.5"
  },
  "orig_nbformat": 4,
  "vscode": {
   "interpreter": {
    "hash": "98ae958a616380484a47c0acb633c1c87a1936093fc0a65d8b215a6e5956a896"
   }
  }
 },
 "nbformat": 4,
 "nbformat_minor": 2
}
